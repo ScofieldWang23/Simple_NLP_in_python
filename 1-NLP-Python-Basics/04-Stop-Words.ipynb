{
 "cells": [
  {
   "cell_type": "markdown",
   "metadata": {},
   "source": [
    "# Stop Words\n",
    "Words like \"a\" and \"the\" appear so **frequently** that they don't require tagging as thoroughly as nouns, verbs and modifiers. We call these `stop words`, and they can be **filtered** from the text to be processed. `spaCy` holds **a built-in list of some 305 English stop words.**"
   ]
  },
  {
   "cell_type": "code",
   "execution_count": 1,
   "metadata": {},
   "outputs": [],
   "source": [
    "# Perform standard imports:\n",
    "import spacy\n",
    "nlp = spacy.load('en_core_web_md')"
   ]
  },
  {
   "cell_type": "code",
   "execution_count": 2,
   "metadata": {},
   "outputs": [
    {
     "name": "stdout",
     "output_type": "stream",
     "text": [
      "{'doing', 'ours', 'wherever', 'herein', 'side', 'anyone', 'about', 'full', 'their', 'always', 'others', 'already', 'between', 'in', 'me', 'her', 'further', 'thus', \"n't\", 'who', 'show', 'done', 'ever', 'anyway', 'then', 'been', 'twenty', 'whoever', 'yet', 'being', 'other', 'alone', 'move', 'never', 'at', 'per', 'had', 'indeed', 'most', 'himself', 'my', 'not', 'we', '‘ll', 'seems', 'more', 'n‘t', 'where', 'beforehand', 'third', 'unless', 'anyhow', 'another', 'else', 'after', 'seem', 'whereupon', 'bottom', 'cannot', 'get', 'again', 'by', 'during', 'into', 'sometime', 'therein', 'towards', 'every', 'front', 'much', 'through', 'will', 'everything', 'both', 'thru', 'mostly', 'ourselves', 'elsewhere', 'hereby', 'go', 'above', 'thence', 'which', 'an', 'regarding', \"'ve\", 'under', 'moreover', 'say', 'our', 'everyone', 'that', 'us', 'be', 'he', 'whither', 'nine', 'down', 'so', 'themselves', 'why', 'fifteen', 'take', 'would', 'somehow', 'if', 'have', 'as', 'neither', 'very', 'with', 'without', 'myself', 'did', 'a', 'because', 'do', 'nowhere', 'thereupon', 'up', 'mine', 'over', \"'d\", 'hence', 'each', 'how', 'off', 'latter', 'something', 'must', 'anywhere', 'see', 'hers', 'him', 'really', 'although', 'these', 'there', 'five', 'for', '’ve', '’d', 'is', 'seeming', 'them', 'well', \"'m\", 'latterly', '‘re', 'serious', 'might', 'beyond', 'now', 'could', 'first', 'within', 'should', 'yourself', 'it', 'formerly', 'forty', 'can', 'except', 'hereupon', 'its', 'whom', 'put', 're', '’s', 'whether', 'together', 'while', 'top', 'rather', 'just', 'was', '’re', 'here', 'last', 'anything', 'keep', 'no', 'none', 'on', 'only', 'perhaps', 'less', 'thereby', 'throughout', 'what', 'amongst', 'or', 'someone', 'the', 'beside', 'three', 'until', 'eleven', '’m', 'namely', 'than', 'four', 'various', 'whole', 'twelve', 'since', 'using', 'whereby', 'whose', \"'re\", 'but', 'call', 'toward', 'whereafter', '‘m', \"'ll\", 'sometimes', 'itself', 'few', 'some', 'were', 'eight', 'nobody', 'otherwise', 'wherein', 'all', 'hundred', 'onto', 'please', \"'s\", 'around', 'either', 'upon', 'almost', 'does', 'also', 'before', 'hereafter', 'give', 'once', 'amount', 'too', '’ll', 'former', 'however', 'nevertheless', 'of', 'among', 'are', 'herself', 'same', 'made', 'i', 'seemed', 'such', 'used', 'against', 'via', 'whence', 'yourselves', 'afterwards', 'becomes', 'ca', 'nor', 'yours', 'and', 'am', 'own', 'several', 'has', 'though', 'may', 'when', 'any', 'she', 'fifty', 'sixty', 'below', 'those', '‘ve', 'ten', 'behind', 'still', 'across', 'become', 'two', 'whenever', 'from', 'back', 'besides', 'became', 'along', 'whatever', 'your', '‘d', 'nothing', 'you', 'even', 'out', 'often', 'everywhere', 'becoming', 'therefore', 'one', 'whereas', 'next', 'name', 'meanwhile', 'n’t', 'noone', 'part', 'this', 'due', 'somewhere', 'his', 'quite', 'make', 'they', 'to', 'least', 'enough', 'six', 'thereafter', '‘s', 'many', 'empty'}\n"
     ]
    }
   ],
   "source": [
    "# Print the set of spaCy's default stop words (remember that sets are unordered):\n",
    "print(nlp.Defaults.stop_words)"
   ]
  },
  {
   "cell_type": "code",
   "execution_count": 3,
   "metadata": {},
   "outputs": [
    {
     "data": {
      "text/plain": [
       "326"
      ]
     },
     "execution_count": 3,
     "metadata": {},
     "output_type": "execute_result"
    }
   ],
   "source": [
    "len(nlp.Defaults.stop_words)"
   ]
  },
  {
   "cell_type": "markdown",
   "metadata": {},
   "source": [
    "## To see if a word is a stop word"
   ]
  },
  {
   "cell_type": "markdown",
   "metadata": {},
   "source": [
    "It seems that there are some bugs within stop words of spacy under current version, just run the following two chunks code to manual set `is_stop` of STOP_WORDS to True"
   ]
  },
  {
   "cell_type": "code",
   "execution_count": 4,
   "metadata": {},
   "outputs": [
    {
     "name": "stdout",
     "output_type": "stream",
     "text": [
      "The | False\n",
      "cat | False\n",
      "ran | False\n",
      "over | True\n",
      "the | True\n",
      "hill | False\n",
      "and | True\n",
      "to | True\n",
      "my | True\n",
      "lap | False\n"
     ]
    }
   ],
   "source": [
    "from spacy.lang.en.stop_words import STOP_WORDS\n",
    "\n",
    "doc = nlp(u'The cat ran over the hill and to my lap')\n",
    "\n",
    "for word in doc:\n",
    "    print(f'{word} | {str(word) in STOP_WORDS}')"
   ]
  },
  {
   "cell_type": "code",
   "execution_count": 8,
   "metadata": {},
   "outputs": [],
   "source": [
    "for word in STOP_WORDS:\n",
    "    for w in (word, word[0].capitalize(), word.upper()):\n",
    "        lex = nlp.vocab[w]\n",
    "        lex.is_stop = True"
   ]
  },
  {
   "cell_type": "code",
   "execution_count": 5,
   "metadata": {},
   "outputs": [
    {
     "data": {
      "text/plain": [
       "True"
      ]
     },
     "execution_count": 5,
     "metadata": {},
     "output_type": "execute_result"
    }
   ],
   "source": [
    "nlp.vocab['myself'].is_stop"
   ]
  },
  {
   "cell_type": "code",
   "execution_count": 6,
   "metadata": {},
   "outputs": [
    {
     "data": {
      "text/plain": [
       "False"
      ]
     },
     "execution_count": 6,
     "metadata": {},
     "output_type": "execute_result"
    }
   ],
   "source": [
    "nlp.vocab['mystery'].is_stop"
   ]
  },
  {
   "cell_type": "markdown",
   "metadata": {},
   "source": [
    "## To add a stop word\n",
    "There may be times when you wish to add a stop word to the default set. Perhaps you decide that `'btw'` (common shorthand for \"by the way\") should be considered a stop word."
   ]
  },
  {
   "cell_type": "code",
   "execution_count": 7,
   "metadata": {},
   "outputs": [],
   "source": [
    "# Add the word to the set of stop words. Use lowercase!\n",
    "nlp.Defaults.stop_words.add('btw')\n",
    "\n",
    "# Set the stop_word tag on the lexeme\n",
    "nlp.vocab['btw'].is_stop = True"
   ]
  },
  {
   "cell_type": "code",
   "execution_count": 8,
   "metadata": {},
   "outputs": [
    {
     "data": {
      "text/plain": [
       "327"
      ]
     },
     "execution_count": 8,
     "metadata": {},
     "output_type": "execute_result"
    }
   ],
   "source": [
    "len(nlp.Defaults.stop_words)"
   ]
  },
  {
   "cell_type": "code",
   "execution_count": 9,
   "metadata": {},
   "outputs": [
    {
     "data": {
      "text/plain": [
       "True"
      ]
     },
     "execution_count": 9,
     "metadata": {},
     "output_type": "execute_result"
    }
   ],
   "source": [
    "nlp.vocab['btw'].is_stop"
   ]
  },
  {
   "cell_type": "markdown",
   "metadata": {},
   "source": [
    "<font color=green>When adding stop words, always use **lowercase**. Lexemes are converted to lowercase before being added to **vocab**.</font>"
   ]
  },
  {
   "cell_type": "markdown",
   "metadata": {},
   "source": [
    "## To remove a stop word\n",
    "Alternatively, you may decide that `'beyond'` should not be considered a stop word."
   ]
  },
  {
   "cell_type": "code",
   "execution_count": 10,
   "metadata": {},
   "outputs": [],
   "source": [
    "# Remove the word from the set of stop words\n",
    "nlp.Defaults.stop_words.remove('beyond')\n",
    "\n",
    "# Remove the stop_word tag from the lexeme\n",
    "nlp.vocab['beyond'].is_stop = False"
   ]
  },
  {
   "cell_type": "code",
   "execution_count": 11,
   "metadata": {},
   "outputs": [
    {
     "data": {
      "text/plain": [
       "326"
      ]
     },
     "execution_count": 11,
     "metadata": {},
     "output_type": "execute_result"
    }
   ],
   "source": [
    "len(nlp.Defaults.stop_words)"
   ]
  },
  {
   "cell_type": "code",
   "execution_count": 12,
   "metadata": {},
   "outputs": [
    {
     "data": {
      "text/plain": [
       "False"
      ]
     },
     "execution_count": 12,
     "metadata": {},
     "output_type": "execute_result"
    }
   ],
   "source": [
    "nlp.vocab['beyond'].is_stop"
   ]
  },
  {
   "cell_type": "markdown",
   "metadata": {},
   "source": [
    "Great! Now you should be able to access spaCy's default set of stop words, and add or remove stop words as needed.\n",
    "## Next up: Vocabulary and Matching"
   ]
  }
 ],
 "metadata": {
  "kernelspec": {
   "display_name": "Python(AML)",
   "language": "python",
   "name": "python3"
  },
  "language_info": {
   "codemirror_mode": {
    "name": "ipython",
    "version": 3
   },
   "file_extension": ".py",
   "mimetype": "text/x-python",
   "name": "python",
   "nbconvert_exporter": "python",
   "pygments_lexer": "ipython3",
   "version": "3.6.8"
  }
 },
 "nbformat": 4,
 "nbformat_minor": 4
}

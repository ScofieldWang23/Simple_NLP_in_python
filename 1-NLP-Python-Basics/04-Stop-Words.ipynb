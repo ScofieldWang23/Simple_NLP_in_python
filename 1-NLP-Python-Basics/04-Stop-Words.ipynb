{
 "cells": [
  {
   "cell_type": "markdown",
   "metadata": {},
   "source": [
    "# Stop Words\n",
    "Words like \"a\" and \"the\" appear so **frequently** that they don't require tagging as thoroughly as nouns, verbs and modifiers. We call these `stop words`, and they can be **filtered** from the text to be processed. `spaCy` holds **a built-in list of some 305 English stop words.**"
   ]
  },
  {
   "cell_type": "code",
   "execution_count": 1,
   "metadata": {},
   "outputs": [],
   "source": [
    "# Perform standard imports:\n",
    "import spacy\n",
    "nlp = spacy.load('en_core_web_md')"
   ]
  },
  {
   "cell_type": "code",
   "execution_count": 2,
   "metadata": {},
   "outputs": [
    {
     "name": "stdout",
     "output_type": "stream",
     "text": [
      "{'for', 'could', 'really', 'sometimes', 'no', 'the', 'else', 'then', 'these', 'became', 'been', 'being', 'same', 'just', 'eleven', 'an', 'than', 'through', 'you', 'becomes', 'ever', 'therein', 'none', 'when', 'anywhere', 'more', 'twenty', 'itself', 'one', 'quite', 'hers', 'into', 'full', 'serious', 'both', 'himself', 'hereupon', 'anyway', 'almost', 'further', 'should', 'sixty', 'thereafter', 'meanwhile', 'moreover', 'whom', 'formerly', 'thence', 'per', 'nowhere', 'because', 'empty', 'therefore', 'anyhow', 'elsewhere', 'put', 'seems', 'they', 'there', 'together', 'whoever', 'indeed', 'your', 'besides', 'wherever', 'or', 'she', 'herein', 'onto', 'unless', 'within', 'wherein', 'four', 'its', 'along', 'if', 'whenever', 'already', 'each', 'seem', 'either', 'amount', 'fifty', 'otherwise', 'though', 'toward', 'around', 'before', 'several', 'had', 'five', 'throughout', 'every', 'any', 'ca', 'i', 'take', 'them', 'why', 'forty', 'can', 'much', 'towards', 'whereas', 'her', 'to', 'namely', 'becoming', 'fifteen', 'regarding', 'whence', 'out', 'since', 'top', 'behind', 'beyond', 'thus', 'above', 'down', 'go', 'nothing', 'nevertheless', 'with', 'hereafter', 'yourselves', 'beforehand', 'few', 'beside', 'alone', 'him', 'make', 'somehow', 'what', 'whole', 'after', 'most', 'something', 'without', 'upon', 'here', 'latterly', 'must', 'noone', 'among', 'often', 'only', 'say', 'was', 'sometime', 'latter', 'us', 'which', 'everything', 'how', 'has', 'however', 'as', 'always', 'but', 'somewhere', 'seemed', 'hereby', 'it', 'is', 'using', 'two', 'such', 'become', 'his', 'themselves', 'last', 'own', 'seeming', 'will', 'mostly', 'am', 'see', 'nobody', 'neither', 'nor', 'back', 'twelve', 'under', 'various', 'who', 'some', 'might', 'ourselves', 'front', 'thru', 'others', 'very', 'all', 'move', 'our', 'made', 'part', 'again', 'below', 'my', 'next', 'of', 'other', 'side', 'show', 'used', 'did', 'whereafter', 'yet', 'six', 'me', 'be', 'yourself', 'another', 'during', 'those', 'about', 'that', 'where', 'call', 'would', 'a', 'are', 'cannot', 'less', 'third', 'across', 'do', 'may', 'never', 'from', 'until', 'well', 'off', 'please', 'former', 'doing', 'hence', 'herself', 'thereupon', 'yours', 'everyone', 'mine', 'amongst', 'and', 'at', 'done', 'except', 'also', 'everywhere', 'keep', 'ours', 'thereby', 'ten', 'although', 'rather', 'does', 'between', 'even', 'many', 'whereby', 'have', 'over', 'perhaps', 'their', 'this', 'least', 'against', 'three', 'too', 'whereupon', 'afterwards', 'eight', 'nine', 'via', 'in', 'up', 'hundred', 'he', 're', 'anyone', 'by', 'first', 'myself', 'whatever', 'we', 'whose', 'bottom', 'give', 'still', 'once', 'enough', 'now', 'not', 'on', 'someone', 'were', 'name', 'anything', 'due', 'while', 'whither', 'so', 'get', 'whether'}\n"
     ]
    }
   ],
   "source": [
    "# Print the set of spaCy's default stop words (remember that sets are unordered):\n",
    "print(nlp.Defaults.stop_words)"
   ]
  },
  {
   "cell_type": "code",
   "execution_count": 3,
   "metadata": {},
   "outputs": [
    {
     "data": {
      "text/plain": [
       "305"
      ]
     },
     "execution_count": 3,
     "metadata": {},
     "output_type": "execute_result"
    }
   ],
   "source": [
    "len(nlp.Defaults.stop_words)"
   ]
  },
  {
   "cell_type": "markdown",
   "metadata": {},
   "source": [
    "## To see if a word is a stop word"
   ]
  },
  {
   "cell_type": "markdown",
   "metadata": {},
   "source": [
    "It seems that there are some bugs within stop words of spacy under current version, just run the following two chunks code to manual set `is_stop` of STOP_WORDS to True"
   ]
  },
  {
   "cell_type": "code",
   "execution_count": 5,
   "metadata": {},
   "outputs": [
    {
     "name": "stdout",
     "output_type": "stream",
     "text": [
      "The | False\n",
      "cat | False\n",
      "ran | False\n",
      "over | True\n",
      "the | True\n",
      "hill | False\n",
      "and | True\n",
      "to | True\n",
      "my | True\n",
      "lap | False\n"
     ]
    }
   ],
   "source": [
    "from spacy.lang.en.stop_words import STOP_WORDS\n",
    "\n",
    "doc = nlp(u'The cat ran over the hill and to my lap')\n",
    "\n",
    "for word in doc:\n",
    "    print(f'{word} | {str(word) in STOP_WORDS}')"
   ]
  },
  {
   "cell_type": "code",
   "execution_count": 8,
   "metadata": {},
   "outputs": [],
   "source": [
    "for word in STOP_WORDS:\n",
    "    for w in (word, word[0].capitalize(), word.upper()):\n",
    "        lex = nlp.vocab[w]\n",
    "        lex.is_stop = True"
   ]
  },
  {
   "cell_type": "code",
   "execution_count": 9,
   "metadata": {},
   "outputs": [
    {
     "data": {
      "text/plain": [
       "True"
      ]
     },
     "execution_count": 9,
     "metadata": {},
     "output_type": "execute_result"
    }
   ],
   "source": [
    "nlp.vocab['myself'].is_stop"
   ]
  },
  {
   "cell_type": "code",
   "execution_count": 10,
   "metadata": {},
   "outputs": [
    {
     "data": {
      "text/plain": [
       "False"
      ]
     },
     "execution_count": 10,
     "metadata": {},
     "output_type": "execute_result"
    }
   ],
   "source": [
    "nlp.vocab['mystery'].is_stop"
   ]
  },
  {
   "cell_type": "markdown",
   "metadata": {},
   "source": [
    "## To add a stop word\n",
    "There may be times when you wish to add a stop word to the default set. Perhaps you decide that `'btw'` (common shorthand for \"by the way\") should be considered a stop word."
   ]
  },
  {
   "cell_type": "code",
   "execution_count": 11,
   "metadata": {},
   "outputs": [],
   "source": [
    "# Add the word to the set of stop words. Use lowercase!\n",
    "nlp.Defaults.stop_words.add('btw')\n",
    "\n",
    "# Set the stop_word tag on the lexeme\n",
    "nlp.vocab['btw'].is_stop = True"
   ]
  },
  {
   "cell_type": "code",
   "execution_count": 12,
   "metadata": {},
   "outputs": [
    {
     "data": {
      "text/plain": [
       "306"
      ]
     },
     "execution_count": 12,
     "metadata": {},
     "output_type": "execute_result"
    }
   ],
   "source": [
    "len(nlp.Defaults.stop_words)"
   ]
  },
  {
   "cell_type": "code",
   "execution_count": 13,
   "metadata": {},
   "outputs": [
    {
     "data": {
      "text/plain": [
       "True"
      ]
     },
     "execution_count": 13,
     "metadata": {},
     "output_type": "execute_result"
    }
   ],
   "source": [
    "nlp.vocab['btw'].is_stop"
   ]
  },
  {
   "cell_type": "markdown",
   "metadata": {},
   "source": [
    "<font color=green>When adding stop words, always use **lowercase**. Lexemes are converted to lowercase before being added to **vocab**.</font>"
   ]
  },
  {
   "cell_type": "markdown",
   "metadata": {},
   "source": [
    "## To remove a stop word\n",
    "Alternatively, you may decide that `'beyond'` should not be considered a stop word."
   ]
  },
  {
   "cell_type": "code",
   "execution_count": 14,
   "metadata": {},
   "outputs": [],
   "source": [
    "# Remove the word from the set of stop words\n",
    "nlp.Defaults.stop_words.remove('beyond')\n",
    "\n",
    "# Remove the stop_word tag from the lexeme\n",
    "nlp.vocab['beyond'].is_stop = False"
   ]
  },
  {
   "cell_type": "code",
   "execution_count": 15,
   "metadata": {},
   "outputs": [
    {
     "data": {
      "text/plain": [
       "305"
      ]
     },
     "execution_count": 15,
     "metadata": {},
     "output_type": "execute_result"
    }
   ],
   "source": [
    "len(nlp.Defaults.stop_words)"
   ]
  },
  {
   "cell_type": "code",
   "execution_count": 16,
   "metadata": {},
   "outputs": [
    {
     "data": {
      "text/plain": [
       "False"
      ]
     },
     "execution_count": 16,
     "metadata": {},
     "output_type": "execute_result"
    }
   ],
   "source": [
    "nlp.vocab['beyond'].is_stop"
   ]
  },
  {
   "cell_type": "markdown",
   "metadata": {},
   "source": [
    "Great! Now you should be able to access spaCy's default set of stop words, and add or remove stop words as needed.\n",
    "## Next up: Vocabulary and Matching"
   ]
  }
 ],
 "metadata": {
  "kernelspec": {
   "display_name": "Python(AML)",
   "language": "python",
   "name": "python3"
  },
  "language_info": {
   "codemirror_mode": {
    "name": "ipython",
    "version": 3
   },
   "file_extension": ".py",
   "mimetype": "text/x-python",
   "name": "python",
   "nbconvert_exporter": "python",
   "pygments_lexer": "ipython3",
   "version": "3.6.8"
  }
 },
 "nbformat": 4,
 "nbformat_minor": 4
}
